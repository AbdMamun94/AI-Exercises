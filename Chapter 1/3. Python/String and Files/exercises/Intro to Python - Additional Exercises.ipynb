{
 "cells": [
  {
   "cell_type": "markdown",
   "source": [
    "**Exercise 2.2 (optional):** Write code that classifies a given amount of money (which you store in a variable `amount`), specified in cents, as greater monetary units. Your code lists the monetary equivalent in dollars (100 ct), quarters (25 ct), dimes (10 ct), nickels (5 ct), and pennies (1 ct). Your program should report the maximum number of dollars that fit in the amount, then the maximum number of quarters that fit in the remainder after you subtract the dollars, then the maximum number of dimes that fit in the remainder after you subtract the dollars and quarters, and so on for nickels and pennies. The result is that you express the amount as the minimum number of coins needed.  \n",
    "\n",
    "**Can you do it again? Would you change anything from the last time you had to do this?**"
   ],
   "metadata": {}
  },
  {
   "cell_type": "code",
   "execution_count": 28,
   "source": [
    "# Your Code Here\r\n",
    "amount = 2021\r\n",
    "\r\n",
    "def shopkeeper(amount):\r\n",
    "\r\n",
    "    cash = {}\r\n",
    "\r\n",
    "    cash[\"dollars\"] = amount // 100\r\n",
    "    cents_remainder = amount % 100\r\n",
    "\r\n",
    "    cash[\"quarters\"] = cents_remainder // 25\r\n",
    "    cents_remainder = cents_remainder % 25\r\n",
    "\r\n",
    "    cash[\"dimes\"] = cents_remainder // 10\r\n",
    "    cents_remainder = cents_remainder % 10\r\n",
    "\r\n",
    "    cash[\"nickels\"] = cents_remainder // 5\r\n",
    "    cents_remainder = cents_remainder % 5\r\n",
    "\r\n",
    "    cash[\"pennies\"] = cents_remainder\r\n",
    "\r\n",
    "    return cash\r\n",
    "\r\n",
    "shopkeeper(2021)"
   ],
   "outputs": [
    {
     "output_type": "execute_result",
     "data": {
      "text/plain": [
       "{'dollars': 20, 'quarters': 0, 'dimes': 2, 'nickels': 0, 'pennies': 1}"
      ]
     },
     "metadata": {},
     "execution_count": 28
    }
   ],
   "metadata": {}
  },
  {
   "cell_type": "markdown",
   "source": [
    "**Exercise (optional)**: The factorial of a positive integer is that integer, multiplied by all positive integers that are lower (excluding zero). You write the factorial as the number with an exclamation mark after it. E.g., the factorial of 5 is `5! = 5 * 4 * 3 * 2 * 1 = 120`. Write a function that calculates the factorial of its (integer) parameter. Test your function for different parameter values, but do not use very large numbers as factorials grow exponentially. Hint: to do this with a `while` loop, you need at least one more variable."
   ],
   "metadata": {}
  },
  {
   "cell_type": "code",
   "execution_count": 31,
   "source": [
    "# Factorial\r\n",
    "def factorial(number):\r\n",
    "    factorial = 1\r\n",
    "    while number > 1:\r\n",
    "        factorial *= number\r\n",
    "        number -= 1\r\n",
    "    return factorial\r\n",
    "\r\n",
    "print(factorial(5))"
   ],
   "outputs": [
    {
     "output_type": "stream",
     "name": "stdout",
     "text": [
      "120\n"
     ]
    }
   ],
   "metadata": {}
  },
  {
   "cell_type": "markdown",
   "source": [
    "**Exercise 5.1 (optional):** Write a function that prints a multiplication table for digits 1 to 10. A multiplication table for the numbers 1 to `num = 3` looks as follows:\n",
    "\n",
    "`. |  1  2  3`<br>\n",
    "`------------`<br>\n",
    "`1 |  1  2  3`<br>\n",
    "`2 |  2  4  6`<br>\n",
    "`3 |  3  6  9`\n",
    "\n",
    "So the labels on the rows are multiplied by the labels on the columns, and the result is shown in the cell that is on that row/column combination. "
   ],
   "metadata": {}
  },
  {
   "cell_type": "code",
   "execution_count": 43,
   "source": [
    "# Print multiplication table\r\n",
    "def print_multiplication_table(n):\r\n",
    "    \r\n",
    "    l1 = str(\". |\")\r\n",
    "    for x in range(1,n+1):\r\n",
    "        l1 += str(x) + \" \"\r\n",
    "\r\n",
    "    print(l1)\r\n",
    "    print(\"---\"*n)\r\n",
    "\r\n",
    "    for i in range(1, n+1):\r\n",
    "        l = str(i) + \" | \"\r\n",
    "        \r\n",
    "        for j in range (1, n+1):\r\n",
    "            l += str(i*j) + \" \"\r\n",
    "            \r\n",
    "        print(l)\r\n",
    "        \r\n",
    "print_multiplication_table(3)"
   ],
   "outputs": [
    {
     "output_type": "stream",
     "name": "stdout",
     "text": [
      ". |1 2 3 \n",
      "---------\n",
      "1 | 1 2 3 \n",
      "2 | 2 4 6 \n",
      "3 | 3 6 9 \n"
     ]
    }
   ],
   "metadata": {}
  },
  {
   "cell_type": "markdown",
   "source": [
    "**Exercise 5.2 (optional):** If you did the previous exercise with a `while` loop, then do it again with a `for` loop. If you did it with a `for` loop, then do it again with a `while` loop. If you did not use a loop at all, you should be ashamed of yourself."
   ],
   "metadata": {}
  },
  {
   "cell_type": "code",
   "execution_count": 69,
   "source": [
    "# Print multiplication table\r\n",
    "def print_multiplication_table(n):\r\n",
    "    \r\n",
    "    l1 = str(\".  | \")\r\n",
    "    x = 1\r\n",
    "    while x <= n:\r\n",
    "        l1 += str(x) + \"\\t\"\r\n",
    "        x += 1\r\n",
    "        \r\n",
    "    print(l1)\r\n",
    "    print(\"--------\"*n)\r\n",
    "    \r\n",
    "    i = 1\r\n",
    "    while i <= n:\r\n",
    "        l = str(i) + \"  | \"\r\n",
    "        j = 1\r\n",
    "        while j <= n:\r\n",
    "            l += str(i*j) + \"\\t\"\r\n",
    "            j += 1\r\n",
    "        i += 1\r\n",
    "        print(l)\r\n",
    "\r\n",
    "    \r\n",
    "print_multiplication_table(5)"
   ],
   "outputs": [
    {
     "output_type": "stream",
     "name": "stdout",
     "text": [
      ".  | 1\t2\t3\t4\t5\t\n",
      "----------------------------------------\n",
      "1  | 1\t2\t3\t4\t5\t\n",
      "2  | 2\t4\t6\t8\t10\t\n",
      "3  | 3\t6\t9\t12\t15\t\n",
      "4  | 4\t8\t12\t16\t20\t\n",
      "5  | 5\t10\t15\t20\t25\t\n"
     ]
    }
   ],
   "metadata": {}
  },
  {
   "cell_type": "markdown",
   "source": [
    "**Exercise 6.5 (optional):** Typical autocorrect functions are the following: \n",
    "1. if a word starts with two capitals, followed by a lower-case letter, the second capital is made lower case; \n",
    "2. if a sentence contains a word that is immediately followed by the same word, the second occurrence is removed; \n",
    "3. if a sentence starts with a lower-case letter, that letter is turned into a capital; \n",
    "4. if a word consists entirely of capitals, except for the first letter which is lower case, then the case of the letters in the word is reversed; and \n",
    "5. if the sentence contains the name of a day (in English) which does not start with a capital, the first letter is turned into a capital. \n",
    "\n",
    "Write a program that takes a sentence and makes these auto-corrections."
   ],
   "metadata": {}
  },
  {
   "cell_type": "code",
   "execution_count": 95,
   "source": [
    "# Autocorrect.\r\n",
    "sentence = \"as it turned out our chance meeting with REverend aRTHUR BElling was \\\r\n",
    "was to change our whole way of life, and every sunday we'd hurry along to St lOONY up the Cream BUn and Jam.\"\r\n",
    "\r\n",
    "def main(text):\r\n",
    "      \r\n",
    "    text = doublewords(text)\r\n",
    "\r\n",
    "    text = capital_s(text)\r\n",
    "   \r\n",
    "    text = days(text)\r\n",
    "    \r\n",
    "    return text\r\n",
    "\r\n",
    "def upperlower(w):\r\n",
    "    if w[0].isupper() and w[1].isupper():\r\n",
    "        return w.lower().capitalize()\r\n",
    "    return w\r\n",
    "\r\n",
    "def doublewords(text):\r\n",
    "    prev_w = \"\"\r\n",
    "    n_l = []\r\n",
    "    l = text.lower().split()\r\n",
    "    for w in l:\r\n",
    "        w = upperlower(w)\r\n",
    "        if w != prev_w:\r\n",
    "            n_l.append(w)\r\n",
    "        prev_w = w\r\n",
    "    return \" \".join(n_l)\r\n",
    "\r\n",
    "def days(s):\r\n",
    "    days = [\"monday\", \"tuesday\", \"wednesday\", \"thursday\", \"friday\", \"saturday\", \"sunday\"]\r\n",
    "    nl = []\r\n",
    "    for word in s.split():\r\n",
    "        if word in days:\r\n",
    "            nl.append(word.capitalize())\r\n",
    "        else:\r\n",
    "            nl.append(word)\r\n",
    "    return \" \".join(nl)\r\n",
    "\r\n",
    "def capital_s(s):\r\n",
    "    return s.capitalize()\r\n",
    "\r\n",
    "\r\n",
    "if __name__ == \"__main__\":\r\n",
    "    main(sentence)\r\n",
    "\r\n",
    "main(sentence)"
   ],
   "outputs": [
    {
     "output_type": "execute_result",
     "data": {
      "text/plain": [
       "\"As it turned out our chance meeting with reverend arthur belling was to change our whole way of life, and every Sunday we'd hurry along to st loony up the cream bun and jam.\""
      ]
     },
     "metadata": {},
     "execution_count": 95
    }
   ],
   "metadata": {}
  },
  {
   "cell_type": "markdown",
   "source": [
    "### Exercise 11.3 (Optional)\n",
    "In this directory you find a file `blakepoems.txt`. Write a program that processes the contents of this file, line by line. It creates an output file in the current working directory called `blkpms.txt`, which has the same contents as `blakepoems.txt`, except that all the vowels are removed (case-insensitively). At the end, display how many characters you read, and how many characters you wrote. If you want to check the contents of `blkpms.txt`, you can either open it in a text editor, or display the first 10 lines or so at the end of your program."
   ],
   "metadata": {}
  },
  {
   "cell_type": "code",
   "execution_count": 136,
   "source": [
    "## Your Code Here\r\n",
    "import re\r\n",
    "\r\n",
    "with open(\"text-files/blakepoems.txt\",\"r\") as fp:\r\n",
    "\r\n",
    "    def read_lines(f):\r\n",
    "        while True:\r\n",
    "            buffer = f.readline()            \r\n",
    "            if buffer == \"\":\r\n",
    "                break\r\n",
    "        processline(buffer)\r\n",
    "        \r\n",
    "\r\n",
    "    def processline(l):\r\n",
    "        line = re.sub('a|e|i|o|u|A|E|I|O|U', '', l)\r\n",
    "        createfile(line)\r\n",
    "    \r\n",
    "    def createfile(li):\r\n",
    "        new = open(\"blkpms.txt\", \"a+\")\r\n",
    "        new.writelines(li)\r\n",
    "        \r\n",
    "    \r\n",
    "    def charactercount(x):\r\n",
    "        y = open(\"blkpms.txt\", \"r\")\r\n",
    "        xd = x.read()\r\n",
    "        yd = y.read()\r\n",
    "        charcountorginal = len(xd)\r\n",
    "        charcountnew = len(yd)\r\n",
    "        print(\"Read Characters {}, written characters {}\".format(charcountorginal, charcountnew))\r\n",
    "\r\n",
    "    read_lines(fp)\r\n",
    "    charactercount(fp)\r\n",
    "\r\n",
    "\r\n"
   ],
   "outputs": [
    {
     "output_type": "stream",
     "name": "stdout",
     "text": [
      "Read Characters 0, written characters 76137\n"
     ]
    }
   ],
   "metadata": {}
  }
 ],
 "metadata": {
  "kernelspec": {
   "display_name": "Python 3",
   "language": "python",
   "name": "python3"
  },
  "language_info": {
   "codemirror_mode": {
    "name": "ipython",
    "version": 3
   },
   "file_extension": ".py",
   "mimetype": "text/x-python",
   "name": "python",
   "nbconvert_exporter": "python",
   "pygments_lexer": "ipython3",
   "version": "3.7.4"
  }
 },
 "nbformat": 4,
 "nbformat_minor": 2
}