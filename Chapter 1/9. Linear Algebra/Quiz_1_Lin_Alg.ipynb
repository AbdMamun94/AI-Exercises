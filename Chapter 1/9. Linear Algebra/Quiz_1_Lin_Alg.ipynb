{
 "cells": [
  {
   "cell_type": "markdown",
   "source": [
    "## Linear Algebra Quiz #1\n",
    "\n",
    "![title](./img/1_0.jpeg)\n",
    "\n",
    "We strongly suggest working with numpy :)"
   ],
   "metadata": {}
  },
  {
   "cell_type": "code",
   "execution_count": 1,
   "source": [
    "#Do your imports here\r\n",
    "import numpy as np"
   ],
   "outputs": [],
   "metadata": {}
  },
  {
   "cell_type": "markdown",
   "source": [
    "![title](./img/1_1.png)"
   ],
   "metadata": {}
  },
  {
   "cell_type": "code",
   "execution_count": 2,
   "source": [
    "# type a function that given a 3_dimensional vector it is able to calculate its magnitude\r\n",
    "\r\n",
    "def magnitude_3(a,b,c):\r\n",
    "    x = [a, b, c]\r\n",
    "    return np.linalg.norm(x)\r\n",
    "\r\n",
    "\r\n",
    "# type a function that given a n_dimensional vector it is able to calculate its magnitude\r\n",
    "# if you want to try this from python (not jupyter notebook) https://docs.python.org/3/library/argparse.html would be a good addition\r\n",
    "# if you are doing this from a jupyter notebook only, you can try to prompt the user for an input  \r\n",
    "\r\n",
    "magnitude_3(3,5,7)"
   ],
   "outputs": [
    {
     "output_type": "execute_result",
     "data": {
      "text/plain": [
       "9.1104335791443"
      ]
     },
     "metadata": {},
     "execution_count": 2
    }
   ],
   "metadata": {}
  },
  {
   "cell_type": "code",
   "execution_count": 18,
   "source": [
    "def magnitude_complete(*arguments): # inputs\r\n",
    "\r\n",
    "    x = []\r\n",
    "\r\n",
    "    for arg in arguments:\r\n",
    "        x.append(arg)\r\n",
    "\r\n",
    "    return np.linalg.norm(x)\r\n",
    "\r\n",
    "magnitude_complete(7,8,9,6)"
   ],
   "outputs": [
    {
     "output_type": "execute_result",
     "data": {
      "text/plain": [
       "15.165750888103101"
      ]
     },
     "metadata": {},
     "execution_count": 18
    }
   ],
   "metadata": {}
  },
  {
   "cell_type": "markdown",
   "source": [
    "uncomment the following line when you are ready to test"
   ],
   "metadata": {}
  },
  {
   "cell_type": "code",
   "execution_count": 25,
   "source": [
    "magnitude_complete(1) == 1.0\r\n",
    "magnitude_complete(1,2) >= 2.236\r\n",
    "magnitude_complete(1,2,3) >= 3.741\r\n",
    "magnitude_complete(1,2,3,4,5) >= 5.477\r\n",
    "magnitude_complete(1,2,3,4,5) >= 7.416"
   ],
   "outputs": [
    {
     "output_type": "execute_result",
     "data": {
      "text/plain": [
       "True"
      ]
     },
     "metadata": {},
     "execution_count": 25
    }
   ],
   "metadata": {}
  },
  {
   "cell_type": "markdown",
   "source": [
    "![title](./img/1_2.png)"
   ],
   "metadata": {}
  },
  {
   "cell_type": "code",
   "execution_count": 32,
   "source": [
    "def magnitude_vectors(a, b):\r\n",
    "    #checks that size is equal\r\n",
    "    \r\n",
    "    #returns the magnitude\r\n",
    "    x = np.array(a)\r\n",
    "    y = np.array(b)\r\n",
    "\r\n",
    "    print(x.size, y.size)\r\n",
    "\r\n",
    "    if x.size == y.size:\r\n",
    "        xy_sum = x + y\r\n",
    "        return np.linalg.norm(xy_sum)\r\n",
    "\r\n",
    "magnitude_vectors([5,1], [-4,-1])"
   ],
   "outputs": [
    {
     "output_type": "stream",
     "name": "stdout",
     "text": [
      "2 2\n"
     ]
    },
    {
     "output_type": "execute_result",
     "data": {
      "text/plain": [
       "1.0"
      ]
     },
     "metadata": {},
     "execution_count": 32
    }
   ],
   "metadata": {}
  },
  {
   "cell_type": "markdown",
   "source": [
    "![title](./img/1_3.png)"
   ],
   "metadata": {}
  },
  {
   "cell_type": "code",
   "execution_count": 45,
   "source": [
    "def direction_vectors(a, b):\r\n",
    "    #checks that size is equal\r\n",
    "    \r\n",
    "    #returns the angle. Hint: use the arctan\r\n",
    "\r\n",
    "    x = np.array(a)\r\n",
    "    y = np.array(b)\r\n",
    "\r\n",
    "    if x.size == y.size:\r\n",
    "        ab_sum = x + y\r\n",
    "        direction = ab_sum[1] / ab_sum[0]\r\n",
    "        r = np.arctan(direction)\r\n",
    "        return np.degrees(r)\r\n",
    "\r\n",
    "#direction_vectors([5,1], [-4,-1])\r\n",
    "    \r\n",
    "# or if you want to do it all in one batch:\r\n",
    "def magdir_vectors(a, b):\r\n",
    "    #checks that size is equal\r\n",
    "    x = np.array(a)\r\n",
    "    y = np.array(b)\r\n",
    "\r\n",
    "    if x.size == y.size:\r\n",
    "        ab_sum = x + y\r\n",
    "        magnitude = np.linalg.norm(ab_sum)\r\n",
    "\r\n",
    "        print(\"The magnitude of a + b is {} and the direction is {}\".format(magnitude, ab_sum))\r\n",
    "\r\n",
    "magdir_vectors([5,1], [-4,-1])\r\n",
    "\r\n",
    "    \r\n",
    "    #returns the magnitude and direction \r\n",
    "    # as alternative, print them in a nicely printed format like:\r\n",
    "    #\"The magnitude of a + b is X and the direction is Y\""
   ],
   "outputs": [
    {
     "output_type": "stream",
     "name": "stdout",
     "text": [
      "The magnitude of a + b is 1.0 and the direction is [1 0]\n"
     ]
    }
   ],
   "metadata": {}
  },
  {
   "cell_type": "markdown",
   "source": [
    "![title](./img/1_4.png)\n",
    "- What is the magnitude of αx⃗? \n",
    "- If α>0, will the direction of the resulting vector change?\n",
    "- If α<0, will the direction of the resulting vector change?\n",
    "- If −1<α<1, will ∥αx⃗∥  increase, decrease or stay the same?"
   ],
   "metadata": {}
  },
  {
   "cell_type": "code",
   "execution_count": null,
   "source": [
    "def alpha_magnitude(alpha, b):\r\n",
    "    \r\n",
    "    #returns the resulting magnitude,\r\n",
    "    # as alternative, just print it"
   ],
   "outputs": [],
   "metadata": {}
  },
  {
   "cell_type": "markdown",
   "source": [
    "For the above exercise, write down in markdown or in a comment if the direction has changed and what has happened to the vector."
   ],
   "metadata": {}
  },
  {
   "cell_type": "code",
   "execution_count": null,
   "source": [],
   "outputs": [],
   "metadata": {}
  }
 ],
 "metadata": {
  "kernelspec": {
   "name": "python3",
   "display_name": "Python 3.8.11 64-bit ('strive': conda)"
  },
  "language_info": {
   "codemirror_mode": {
    "name": "ipython",
    "version": 3
   },
   "file_extension": ".py",
   "mimetype": "text/x-python",
   "name": "python",
   "nbconvert_exporter": "python",
   "pygments_lexer": "ipython3",
   "version": "3.8.11"
  },
  "varInspector": {
   "cols": {
    "lenName": 16,
    "lenType": 16,
    "lenVar": 40
   },
   "kernels_config": {
    "python": {
     "delete_cmd_postfix": "",
     "delete_cmd_prefix": "del ",
     "library": "var_list.py",
     "varRefreshCmd": "print(var_dic_list())"
    },
    "r": {
     "delete_cmd_postfix": ") ",
     "delete_cmd_prefix": "rm(",
     "library": "var_list.r",
     "varRefreshCmd": "cat(var_dic_list()) "
    }
   },
   "types_to_exclude": [
    "module",
    "function",
    "builtin_function_or_method",
    "instance",
    "_Feature"
   ],
   "window_display": false
  },
  "interpreter": {
   "hash": "f5ac2de34b933ba314a3e6f48539e06e23cc03fb97d26544d4fa99c56e4a3ef7"
  }
 },
 "nbformat": 4,
 "nbformat_minor": 2
}